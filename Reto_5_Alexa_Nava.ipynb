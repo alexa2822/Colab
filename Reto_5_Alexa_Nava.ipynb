{
  "nbformat": 4,
  "nbformat_minor": 0,
  "metadata": {
    "colab": {
      "provenance": [],
      "include_colab_link": true
    },
    "kernelspec": {
      "name": "python3",
      "display_name": "Python 3"
    },
    "language_info": {
      "name": "python"
    }
  },
  "cells": [
    {
      "cell_type": "markdown",
      "metadata": {
        "id": "view-in-github",
        "colab_type": "text"
      },
      "source": [
        "<a href=\"https://colab.research.google.com/github/alexa2822/Colab/blob/main/Reto_5_Alexa_Nava.ipynb\" target=\"_parent\"><img src=\"https://colab.research.google.com/assets/colab-badge.svg\" alt=\"Open In Colab\"/></a>"
      ]
    },
    {
      "cell_type": "markdown",
      "metadata": {
        "id": "bxQLmOEQzDwf"
      },
      "source": [
        "**TEMA 1**"
      ]
    },
    {
      "cell_type": "markdown",
      "metadata": {
        "id": "HGdVV79TzIPc"
      },
      "source": [
        "\n",
        "\n",
        "Instalación de la librería streamlit"
      ]
    },
    {
      "cell_type": "code",
      "metadata": {
        "id": "sRbGg__4pEcP",
        "colab": {
          "base_uri": "https://localhost:8080/"
        },
        "outputId": "ef36dc37-a57e-4e9e-8025-781033e31f1a"
      },
      "source": [
        "!pip install streamlit"
      ],
      "execution_count": 1,
      "outputs": [
        {
          "output_type": "stream",
          "name": "stdout",
          "text": [
            "Looking in indexes: https://pypi.org/simple, https://us-python.pkg.dev/colab-wheels/public/simple/\n",
            "Collecting streamlit\n",
            "  Downloading streamlit-1.16.0-py2.py3-none-any.whl (9.2 MB)\n",
            "\u001b[2K     \u001b[90m━━━━━━━━━━━━━━━━━━━━━━━━━━━━━━━━━━━━━━━━\u001b[0m \u001b[32m9.2/9.2 MB\u001b[0m \u001b[31m47.1 MB/s\u001b[0m eta \u001b[36m0:00:00\u001b[0m\n",
            "\u001b[?25hRequirement already satisfied: altair>=3.2.0 in /usr/local/lib/python3.8/dist-packages (from streamlit) (4.2.0)\n",
            "Collecting watchdog\n",
            "  Downloading watchdog-2.2.1-py3-none-manylinux2014_x86_64.whl (78 kB)\n",
            "\u001b[2K     \u001b[90m━━━━━━━━━━━━━━━━━━━━━━━━━━━━━━━━━━━━━━━━\u001b[0m \u001b[32m79.0/79.0 KB\u001b[0m \u001b[31m9.7 MB/s\u001b[0m eta \u001b[36m0:00:00\u001b[0m\n",
            "\u001b[?25hRequirement already satisfied: protobuf<4,>=3.12 in /usr/local/lib/python3.8/dist-packages (from streamlit) (3.19.6)\n",
            "Requirement already satisfied: toml in /usr/local/lib/python3.8/dist-packages (from streamlit) (0.10.2)\n",
            "Collecting semver\n",
            "  Downloading semver-2.13.0-py2.py3-none-any.whl (12 kB)\n",
            "Requirement already satisfied: numpy in /usr/local/lib/python3.8/dist-packages (from streamlit) (1.21.6)\n",
            "Requirement already satisfied: pandas>=0.21.0 in /usr/local/lib/python3.8/dist-packages (from streamlit) (1.3.5)\n",
            "Collecting blinker>=1.0.0\n",
            "  Downloading blinker-1.5-py2.py3-none-any.whl (12 kB)\n",
            "Collecting rich>=10.11.0\n",
            "  Downloading rich-13.0.1-py3-none-any.whl (238 kB)\n",
            "\u001b[2K     \u001b[90m━━━━━━━━━━━━━━━━━━━━━━━━━━━━━━━━━━━━━━\u001b[0m \u001b[32m238.1/238.1 KB\u001b[0m \u001b[31m16.2 MB/s\u001b[0m eta \u001b[36m0:00:00\u001b[0m\n",
            "\u001b[?25hRequirement already satisfied: requests>=2.4 in /usr/local/lib/python3.8/dist-packages (from streamlit) (2.25.1)\n",
            "Requirement already satisfied: importlib-metadata>=1.4 in /usr/local/lib/python3.8/dist-packages (from streamlit) (6.0.0)\n",
            "Requirement already satisfied: click>=7.0 in /usr/local/lib/python3.8/dist-packages (from streamlit) (7.1.2)\n",
            "Requirement already satisfied: typing-extensions>=3.10.0.0 in /usr/local/lib/python3.8/dist-packages (from streamlit) (4.4.0)\n",
            "Requirement already satisfied: tornado>=5.0 in /usr/local/lib/python3.8/dist-packages (from streamlit) (6.0.4)\n",
            "Requirement already satisfied: tzlocal>=1.1 in /usr/local/lib/python3.8/dist-packages (from streamlit) (1.5.1)\n",
            "Collecting gitpython!=3.1.19\n",
            "  Downloading GitPython-3.1.30-py3-none-any.whl (184 kB)\n",
            "\u001b[2K     \u001b[90m━━━━━━━━━━━━━━━━━━━━━━━━━━━━━━━━━━━━━━\u001b[0m \u001b[32m184.0/184.0 KB\u001b[0m \u001b[31m18.8 MB/s\u001b[0m eta \u001b[36m0:00:00\u001b[0m\n",
            "\u001b[?25hRequirement already satisfied: python-dateutil in /usr/local/lib/python3.8/dist-packages (from streamlit) (2.8.2)\n",
            "Requirement already satisfied: cachetools>=4.0 in /usr/local/lib/python3.8/dist-packages (from streamlit) (5.2.1)\n",
            "Requirement already satisfied: pillow>=6.2.0 in /usr/local/lib/python3.8/dist-packages (from streamlit) (7.1.2)\n",
            "Collecting pydeck>=0.1.dev5\n",
            "  Downloading pydeck-0.8.0-py2.py3-none-any.whl (4.7 MB)\n",
            "\u001b[2K     \u001b[90m━━━━━━━━━━━━━━━━━━━━━━━━━━━━━━━━━━━━━━━━\u001b[0m \u001b[32m4.7/4.7 MB\u001b[0m \u001b[31m48.9 MB/s\u001b[0m eta \u001b[36m0:00:00\u001b[0m\n",
            "\u001b[?25hCollecting validators>=0.2\n",
            "  Downloading validators-0.20.0.tar.gz (30 kB)\n",
            "  Preparing metadata (setup.py) ... \u001b[?25l\u001b[?25hdone\n",
            "Collecting pympler>=0.9\n",
            "  Downloading Pympler-1.0.1-py3-none-any.whl (164 kB)\n",
            "\u001b[2K     \u001b[90m━━━━━━━━━━━━━━━━━━━━━━━━━━━━━━━━━━━━━━\u001b[0m \u001b[32m164.8/164.8 KB\u001b[0m \u001b[31m16.2 MB/s\u001b[0m eta \u001b[36m0:00:00\u001b[0m\n",
            "\u001b[?25hRequirement already satisfied: pyarrow>=4.0 in /usr/local/lib/python3.8/dist-packages (from streamlit) (9.0.0)\n",
            "Requirement already satisfied: packaging>=14.1 in /usr/local/lib/python3.8/dist-packages (from streamlit) (21.3)\n",
            "Requirement already satisfied: jinja2 in /usr/local/lib/python3.8/dist-packages (from altair>=3.2.0->streamlit) (2.11.3)\n",
            "Requirement already satisfied: jsonschema>=3.0 in /usr/local/lib/python3.8/dist-packages (from altair>=3.2.0->streamlit) (4.3.3)\n",
            "Requirement already satisfied: entrypoints in /usr/local/lib/python3.8/dist-packages (from altair>=3.2.0->streamlit) (0.4)\n",
            "Requirement already satisfied: toolz in /usr/local/lib/python3.8/dist-packages (from altair>=3.2.0->streamlit) (0.12.0)\n",
            "Collecting gitdb<5,>=4.0.1\n",
            "  Downloading gitdb-4.0.10-py3-none-any.whl (62 kB)\n",
            "\u001b[2K     \u001b[90m━━━━━━━━━━━━━━━━━━━━━━━━━━━━━━━━━━━━━━━━\u001b[0m \u001b[32m62.7/62.7 KB\u001b[0m \u001b[31m6.6 MB/s\u001b[0m eta \u001b[36m0:00:00\u001b[0m\n",
            "\u001b[?25hRequirement already satisfied: zipp>=0.5 in /usr/local/lib/python3.8/dist-packages (from importlib-metadata>=1.4->streamlit) (3.11.0)\n",
            "Requirement already satisfied: pyparsing!=3.0.5,>=2.0.2 in /usr/local/lib/python3.8/dist-packages (from packaging>=14.1->streamlit) (3.0.9)\n",
            "Requirement already satisfied: pytz>=2017.3 in /usr/local/lib/python3.8/dist-packages (from pandas>=0.21.0->streamlit) (2022.7)\n",
            "Requirement already satisfied: six>=1.5 in /usr/local/lib/python3.8/dist-packages (from python-dateutil->streamlit) (1.15.0)\n",
            "Requirement already satisfied: chardet<5,>=3.0.2 in /usr/local/lib/python3.8/dist-packages (from requests>=2.4->streamlit) (4.0.0)\n",
            "Requirement already satisfied: certifi>=2017.4.17 in /usr/local/lib/python3.8/dist-packages (from requests>=2.4->streamlit) (2022.12.7)\n",
            "Requirement already satisfied: urllib3<1.27,>=1.21.1 in /usr/local/lib/python3.8/dist-packages (from requests>=2.4->streamlit) (1.24.3)\n",
            "Requirement already satisfied: idna<3,>=2.5 in /usr/local/lib/python3.8/dist-packages (from requests>=2.4->streamlit) (2.10)\n",
            "Collecting commonmark<0.10.0,>=0.9.0\n",
            "  Downloading commonmark-0.9.1-py2.py3-none-any.whl (51 kB)\n",
            "\u001b[2K     \u001b[90m━━━━━━━━━━━━━━━━━━━━━━━━━━━━━━━━━━━━━━━━\u001b[0m \u001b[32m51.1/51.1 KB\u001b[0m \u001b[31m3.3 MB/s\u001b[0m eta \u001b[36m0:00:00\u001b[0m\n",
            "\u001b[?25hRequirement already satisfied: pygments<3.0.0,>=2.6.0 in /usr/local/lib/python3.8/dist-packages (from rich>=10.11.0->streamlit) (2.6.1)\n",
            "Requirement already satisfied: decorator>=3.4.0 in /usr/local/lib/python3.8/dist-packages (from validators>=0.2->streamlit) (4.4.2)\n",
            "Collecting smmap<6,>=3.0.1\n",
            "  Downloading smmap-5.0.0-py3-none-any.whl (24 kB)\n",
            "Requirement already satisfied: MarkupSafe>=0.23 in /usr/local/lib/python3.8/dist-packages (from jinja2->altair>=3.2.0->streamlit) (2.0.1)\n",
            "Requirement already satisfied: importlib-resources>=1.4.0 in /usr/local/lib/python3.8/dist-packages (from jsonschema>=3.0->altair>=3.2.0->streamlit) (5.10.2)\n",
            "Requirement already satisfied: pyrsistent!=0.17.0,!=0.17.1,!=0.17.2,>=0.14.0 in /usr/local/lib/python3.8/dist-packages (from jsonschema>=3.0->altair>=3.2.0->streamlit) (0.19.3)\n",
            "Requirement already satisfied: attrs>=17.4.0 in /usr/local/lib/python3.8/dist-packages (from jsonschema>=3.0->altair>=3.2.0->streamlit) (22.2.0)\n",
            "Building wheels for collected packages: validators\n",
            "  Building wheel for validators (setup.py) ... \u001b[?25l\u001b[?25hdone\n",
            "  Created wheel for validators: filename=validators-0.20.0-py3-none-any.whl size=19581 sha256=88a0bce46c663e0c717cee3ce753c134911098c32054bb9369a3e42263ee1884\n",
            "  Stored in directory: /root/.cache/pip/wheels/19/09/72/3eb74d236bb48bd0f3c6c3c83e4e0c5bbfcbcad7c6c3539db8\n",
            "Successfully built validators\n",
            "Installing collected packages: commonmark, watchdog, validators, smmap, semver, rich, pympler, blinker, pydeck, gitdb, gitpython, streamlit\n",
            "Successfully installed blinker-1.5 commonmark-0.9.1 gitdb-4.0.10 gitpython-3.1.30 pydeck-0.8.0 pympler-1.0.1 rich-13.0.1 semver-2.13.0 smmap-5.0.0 streamlit-1.16.0 validators-0.20.0 watchdog-2.2.1\n"
          ]
        }
      ]
    },
    {
      "cell_type": "markdown",
      "metadata": {
        "id": "bxCa006hzPXY"
      },
      "source": [
        "Cargar una máquina virtual que tenga instalado Ngrok"
      ]
    },
    {
      "cell_type": "code",
      "metadata": {
        "id": "jnxnyxERpJon",
        "colab": {
          "base_uri": "https://localhost:8080/"
        },
        "outputId": "13d6da89-4210-4508-a39f-2ffb7583ba02"
      },
      "source": [
        "!wget https://bin.equinox.io/c/4VmDzA7iaHb/ngrok-stable-linux-amd64.zip"
      ],
      "execution_count": null,
      "outputs": [
        {
          "output_type": "stream",
          "name": "stdout",
          "text": [
            "--2022-09-12 15:45:58--  https://bin.equinox.io/c/4VmDzA7iaHb/ngrok-stable-linux-amd64.zip\n",
            "Resolving bin.equinox.io (bin.equinox.io)... 54.237.133.81, 18.205.222.128, 52.202.168.65, ...\n",
            "Connecting to bin.equinox.io (bin.equinox.io)|54.237.133.81|:443... connected.\n",
            "HTTP request sent, awaiting response... 200 OK\n",
            "Length: 13832437 (13M) [application/octet-stream]\n",
            "Saving to: ‘ngrok-stable-linux-amd64.zip.2’\n",
            "\n",
            "ngrok-stable-linux- 100%[===================>]  13.19M  51.1MB/s    in 0.3s    \n",
            "\n",
            "2022-09-12 15:45:59 (51.1 MB/s) - ‘ngrok-stable-linux-amd64.zip.2’ saved [13832437/13832437]\n",
            "\n"
          ]
        }
      ]
    },
    {
      "cell_type": "markdown",
      "metadata": {
        "id": "-m9tzbkAzVvX"
      },
      "source": [
        "Ahora cargaremos esta máquina virtual en nuestro archivo de Google Colab"
      ]
    },
    {
      "cell_type": "code",
      "metadata": {
        "id": "2Dm4E0N1pQQM",
        "colab": {
          "base_uri": "https://localhost:8080/"
        },
        "outputId": "54f937fb-9523-430a-d433-a681a7e1a8e1"
      },
      "source": [
        "!unzip ngrok-stable-linux-amd64.zip"
      ],
      "execution_count": null,
      "outputs": [
        {
          "output_type": "stream",
          "name": "stdout",
          "text": [
            "Archive:  ngrok-stable-linux-amd64.zip\n",
            "replace ngrok? [y]es, [n]o, [A]ll, [N]one, [r]ename: n\n"
          ]
        }
      ]
    },
    {
      "cell_type": "markdown",
      "metadata": {
        "id": "9reiQ37CzZ8s"
      },
      "source": [
        "Posteriormente le indicaremos a Ngrok que estará utilizando el puerto 8501 para visualizar nuestra aplicación"
      ]
    },
    {
      "cell_type": "code",
      "source": [
        "get_ipython().system_raw('./ngrok authtoken 2E3FHacFR1CXIfLhXGDmPwnttMo_7siGrT4XyBXs19EJmLvyR')"
      ],
      "metadata": {
        "id": "O53nVmORTWdg"
      },
      "execution_count": null,
      "outputs": []
    },
    {
      "cell_type": "code",
      "metadata": {
        "id": "hnmE2OM9pSUl"
      },
      "source": [
        "get_ipython().system_raw('./ngrok http 8501 &')"
      ],
      "execution_count": null,
      "outputs": []
    },
    {
      "cell_type": "code",
      "metadata": {
        "id": "avVTr1XkpUdO",
        "colab": {
          "base_uri": "https://localhost:8080/"
        },
        "outputId": "b9065275-14fa-495d-e0ed-8c0345130497"
      },
      "source": [
        "!curl -s http://localhost:4040/api/tunnels | python3 -c \\\n",
        "    'import sys, json; print(\"Execute the next cell and the go to the following URL: \" +json.load(sys.stdin)[\"tunnels\"][0][\"public_url\"])'"
      ],
      "execution_count": null,
      "outputs": [
        {
          "output_type": "stream",
          "name": "stdout",
          "text": [
            "Execute the next cell and the go to the following URL: https://dd41-34-75-110-75.ngrok.io\n"
          ]
        }
      ]
    },
    {
      "cell_type": "code",
      "metadata": {
        "id": "wZMvaCZah_3U",
        "colab": {
          "base_uri": "https://localhost:8080/"
        },
        "outputId": "ec18a179-b1ab-46ae-e580-da468fd7c8fc"
      },
      "source": [
        "%%writefile employees.py\n",
        "import pandas as pd\n",
        "import matplotlib.pyplot as plt\n",
        "import streamlit as st\n",
        "import seaborn as sns\n",
        "\n",
        "employees_link = '/content/Employees.csv'\n",
        "\n",
        "@st.cache\n",
        "def load_data (nrows):\n",
        "  employees_data = pd.read_csv(employees_link,nrows=nrows)\n",
        "  return employees_data\n",
        "  \n",
        "data=load_data(500)\n",
        "\n",
        "st.title(\"RETO MODULO 5 - APLICACION WEB DE CIENCIA DE DATOS\")\n",
        "st.header(\"Alexa Gabriela Nava Rodríguez\")\n",
        "\n",
        "if st.sidebar.checkbox ('Mostrar datos'):\n",
        "  st.write (data)\n",
        "\n",
        "st.markdown(\"___\")\n",
        "\n",
        "\n",
        "@st.cache\n",
        "def load_data_byId (employee_id):\n",
        "  employees_data = pd.read_csv(employees_link)\n",
        "  filter_byId= employees_data[employees_data['Employee_ID'].str.contains(employee_id)]\n",
        "  return filter_byId\n",
        "\n",
        "id_empleado= st.sidebar.text_input(\"Id Empleado: \")\n",
        "btnFilterbyId=st.sidebar.button('Filtrar por id de empleado',key=\"1\")\n",
        "\n",
        "if(btnFilterbyId):\n",
        "  filterId=load_data_byId(id_empleado)\n",
        "  count_row=filterId.shape[0]\n",
        "  st.write(f\"Total items: {count_row}\")\n",
        "  st.dataframe(filterId)\n",
        "\n",
        "\n",
        "@st.cache\n",
        "def load_data_byHometown (hometown):\n",
        "  employees_data = pd.read_csv(employees_link)\n",
        "  filter_byHometown= employees_data[employees_data['Hometown'].str.contains(hometown)]\n",
        "  return filter_byHometown\n",
        "\n",
        "select_Hometown = st.sidebar.text_input(\"Ciudad: \")\n",
        "btnFilterbyHometown=st.sidebar.button('Filtrar por Ciudad',key=\"2\")\n",
        "\n",
        "if(btnFilterbyHometown):\n",
        "  filterHometown=load_data_byHometown(select_Hometown)\n",
        "  count_row=filterHometown.shape[0]\n",
        "  st.write(f\"Total items: {count_row}\")\n",
        "  st.dataframe(filterHometown)\n",
        "\n",
        "\n",
        "@st.cache\n",
        "def load_data_byUnit (unit):\n",
        "  employees_data = pd.read_csv(employees_link)\n",
        "  filter_byUnit= employees_data[employees_data['Unit'].str.contains(unit)]\n",
        "  return filter_byUnit\n",
        "\n",
        "select_Unit =  st.sidebar.text_input(\"Area: \")\n",
        "btnFilterbyUnit=st.sidebar.button('Filtrar por Ciudad',key=\"3\")\n",
        "\n",
        "if(btnFilterbyUnit):\n",
        "  filterUnit=load_data_byUnit(select_Unit)\n",
        "  count_row=filterUnit.shape[0]\n",
        "  st.write(f\"Total items: {count_row}\")\n",
        "  st.dataframe(filterUnit)\n",
        "\n",
        "\n",
        "\n",
        "@st.cache\n",
        "def load_data_byEducation (education):\n",
        "  employees_data = pd.read_csv(employees_link)\n",
        "  filter_byEducationLevel= employees_data[employees_data['Education_Level']==education]\n",
        "  return filter_byEducationLevel\n",
        "\n",
        "select_Education_Level = st.sidebar.selectbox(\"Datos por nivel educativo: \", data['Education_Level'].unique())\n",
        "st.header(\"Datos por nivel educativo\")\n",
        "st.write(\"Seleccionar Nivel Educativo:\", select_Education_Level)\n",
        "data_level=data.query(f\"\"\"Education_Level==@select_Education_Level\"\"\")\n",
        "count_row=data_level.shape[0]\n",
        "st.write(f\"Total empleados: {count_row}\")\n",
        "st.write(data_level)\n",
        "st.markdown(\"___\")\n",
        "\n",
        "@st.cache\n",
        "def load_data_byCiudad (hometown):\n",
        "  employees_data = pd.read_csv(employees_link)\n",
        "  filter_byCiudad= employees_data[employees_data['Hometown']==hometown]\n",
        "  return filter_byCiudad\n",
        "\n",
        "select_Ciudad = st.sidebar.selectbox(\"Seleccionar ciudad: \", data['Hometown'].unique())\n",
        "st.header(\"Datos por Ciudad\")\n",
        "st.write(\"Seleccionar Ciudad:\", select_Ciudad)\n",
        "data_city=data.query(f\"\"\"Hometown==@select_Ciudad\"\"\")\n",
        "count_row=data_city.shape[0]\n",
        "st.write(f\"Total empleados: {count_row}\")\n",
        "st.write(data_city)\n",
        "st.markdown(\"___\")\n",
        "\n",
        "@st.cache\n",
        "def load_data_byArea (area):\n",
        "  employees_data = pd.read_csv(employees_link)\n",
        "  filter_byArea= employees_data[employees_data['Unit']==area]\n",
        "  return filter_byArea\n",
        "\n",
        "select_Area = st.sidebar.selectbox(\"Seleccionar Area: \", data['Unit'].unique())\n",
        "st.header(\"Datos por Área\")\n",
        "st.write(\"Seleccionar Area:\", select_Area)\n",
        "data_unit=data.query(f\"\"\"Unit==@select_Area\"\"\")\n",
        "count_row=data_unit.shape[0]\n",
        "st.write(f\"Total empleados: {count_row}\")\n",
        "st.write(data_unit)\n",
        "\n",
        "st.markdown(\"___\")\n",
        "if st.sidebar.checkbox ('Empleados por edad'): \n",
        "  st.header(\"Histograma empleados agrupados por edad\")\n",
        "  df_age=plt.hist(data[\"Age\"])\n",
        "  st.bar_chart(df_age)\n",
        "\n",
        "if st.sidebar.checkbox ('Empleados por Ciudad'): \n",
        "  st.header(\"Frecuencias de empleados por Ciudad por área\")\n",
        "  df_age=plt.hist(data[\"Hometown\"])\n",
        "  st.bar_chart(df_age)\n",
        "\n",
        "if st.sidebar.checkbox ('Ciudades con mayor indice de desercion'): \n",
        "  st.header(\"Ciudades con mayor indice de desercion\")\n",
        "  df_rate=data[[\"Hometown\",\"Attrition_rate\"]].groupby(\"Hometown\").mean()\n",
        "  st.bar_chart(df_rate)\n",
        "\n",
        "if st.sidebar.checkbox ('Edad y tasa de desercion'): \n",
        "  st.header(\"Edad y tase de desercion\")\n",
        "  df_rate1=data[[\"Age\",\"Attrition_rate\"]]\n",
        "  st.bar_chart(df_rate1)\n",
        "\n",
        "\n",
        "if st.sidebar.checkbox ('Tasa de Desercion y tiempo de servicio'): \n",
        "  st.header(\"Tasa de Desercion y tiempo de servicio\")\n",
        "  fig3, ax3 = plt.subplots()\n",
        "  ax3.scatter(data.Time_of_service, data.Attrition_rate)\n",
        "  ax3.set_xlabel(\"Time_of_service\")\n",
        "  ax3.set_ylabel(\"Attrition_rate\")\n",
        "  st.header(\"Grafica de Dispersión\")\n",
        "  st.pyplot(fig3)\n"
      ],
      "execution_count": null,
      "outputs": [
        {
          "output_type": "stream",
          "name": "stdout",
          "text": [
            "Overwriting employees.py\n"
          ]
        }
      ]
    },
    {
      "cell_type": "code",
      "metadata": {
        "id": "w6tKwtcpiMhb",
        "colab": {
          "base_uri": "https://localhost:8080/"
        },
        "outputId": "d4cb81bc-7d8b-4d5f-faa0-4c299cd3a42b"
      },
      "source": [
        "!streamlit run /content/employees.py"
      ],
      "execution_count": null,
      "outputs": [
        {
          "output_type": "stream",
          "name": "stdout",
          "text": [
            "2022-09-12 21:45:17.626 INFO    numexpr.utils: NumExpr defaulting to 2 threads.\n",
            "\u001b[0m\n",
            "\u001b[34m\u001b[1m  You can now view your Streamlit app in your browser.\u001b[0m\n",
            "\u001b[0m\n",
            "\u001b[34m  Network URL: \u001b[0m\u001b[1mhttp://172.28.0.2:8501\u001b[0m\n",
            "\u001b[34m  External URL: \u001b[0m\u001b[1mhttp://34.75.110.75:8501\u001b[0m\n",
            "\u001b[0m\n",
            "2022-09-12 21:46:42.014 Uncaught app exception\n",
            "Traceback (most recent call last):\n",
            "  File \"/usr/local/lib/python3.7/dist-packages/streamlit/runtime/scriptrunner/script_runner.py\", line 556, in _run_script\n",
            "    exec(code, module.__dict__)\n",
            "  File \"/content/employees.py\", line 121, in <module>\n",
            "    st.bar_chart(df_age)\n",
            "  File \"/usr/local/lib/python3.7/dist-packages/streamlit/elements/dataframe_selector.py\", line 369, in bar_chart\n",
            "    use_container_width=use_container_width,\n",
            "  File \"/usr/local/lib/python3.7/dist-packages/streamlit/elements/arrow_altair.py\", line 265, in _arrow_bar_chart\n",
            "    chart = _generate_chart(ChartType.BAR, data, x, y, width, height)\n",
            "  File \"/usr/local/lib/python3.7/dist-packages/streamlit/elements/arrow_altair.py\", line 487, in _generate_chart\n",
            "    data, x, y\n",
            "  File \"/usr/local/lib/python3.7/dist-packages/streamlit/elements/arrow_altair.py\", line 453, in _maybe_melt\n",
            "    data_df = _melt_data(data_df, x_column, y_column, color_column)\n",
            "  File \"/usr/local/lib/python3.7/dist-packages/streamlit/elements/arrow_altair.py\", line 371, in _melt_data\n",
            "    and len(y_series.unique()) > 100\n",
            "  File \"/usr/local/lib/python3.7/dist-packages/pandas/core/series.py\", line 2039, in unique\n",
            "    return super().unique()\n",
            "  File \"/usr/local/lib/python3.7/dist-packages/pandas/core/base.py\", line 979, in unique\n",
            "    result = unique1d(values)\n",
            "  File \"/usr/local/lib/python3.7/dist-packages/pandas/core/algorithms.py\", line 431, in unique\n",
            "    uniques = table.unique(values)\n",
            "  File \"pandas/_libs/hashtable_class_helper.pxi\", line 5363, in pandas._libs.hashtable.PyObjectHashTable.unique\n",
            "  File \"pandas/_libs/hashtable_class_helper.pxi\", line 5310, in pandas._libs.hashtable.PyObjectHashTable._unique\n",
            "TypeError: unhashable type: 'DataFrame'\n",
            "2022-09-12 21:47:10.735 Uncaught app exception\n",
            "Traceback (most recent call last):\n",
            "  File \"/usr/local/lib/python3.7/dist-packages/streamlit/runtime/scriptrunner/script_runner.py\", line 556, in _run_script\n",
            "    exec(code, module.__dict__)\n",
            "  File \"/content/employees.py\", line 121, in <module>\n",
            "    st.bar_chart(df_age)\n",
            "  File \"/usr/local/lib/python3.7/dist-packages/streamlit/elements/dataframe_selector.py\", line 369, in bar_chart\n",
            "    use_container_width=use_container_width,\n",
            "  File \"/usr/local/lib/python3.7/dist-packages/streamlit/elements/arrow_altair.py\", line 265, in _arrow_bar_chart\n",
            "    chart = _generate_chart(ChartType.BAR, data, x, y, width, height)\n",
            "  File \"/usr/local/lib/python3.7/dist-packages/streamlit/elements/arrow_altair.py\", line 487, in _generate_chart\n",
            "    data, x, y\n",
            "  File \"/usr/local/lib/python3.7/dist-packages/streamlit/elements/arrow_altair.py\", line 453, in _maybe_melt\n",
            "    data_df = _melt_data(data_df, x_column, y_column, color_column)\n",
            "  File \"/usr/local/lib/python3.7/dist-packages/streamlit/elements/arrow_altair.py\", line 371, in _melt_data\n",
            "    and len(y_series.unique()) > 100\n",
            "  File \"/usr/local/lib/python3.7/dist-packages/pandas/core/series.py\", line 2039, in unique\n",
            "    return super().unique()\n",
            "  File \"/usr/local/lib/python3.7/dist-packages/pandas/core/base.py\", line 979, in unique\n",
            "    result = unique1d(values)\n",
            "  File \"/usr/local/lib/python3.7/dist-packages/pandas/core/algorithms.py\", line 431, in unique\n",
            "    uniques = table.unique(values)\n",
            "  File \"pandas/_libs/hashtable_class_helper.pxi\", line 5363, in pandas._libs.hashtable.PyObjectHashTable.unique\n",
            "  File \"pandas/_libs/hashtable_class_helper.pxi\", line 5310, in pandas._libs.hashtable.PyObjectHashTable._unique\n",
            "TypeError: unhashable type: 'DataFrame'\n",
            "\u001b[34m  Stopping...\u001b[0m\n",
            "^C\n"
          ]
        }
      ]
    }
  ]
}